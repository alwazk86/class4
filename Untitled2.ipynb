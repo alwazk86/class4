{
 "cells": [
  {
   "cell_type": "code",
   "execution_count": 42,
   "metadata": {
    "scrolled": true
   },
   "outputs": [
    {
     "name": "stdout",
     "output_type": "stream",
     "text": [
      "kya aapka naam A se shuru hota hai? yes\n",
      "aap chughat ho\n"
     ]
    }
   ],
   "source": [
    "array=[\"haan\",\"hn\",\"yes\"]\n",
    "a=input(\"kya aapka naam A se shuru hota hai? \")\n",
    "for i in array:\n",
    "    if i == a:\n",
    "        print(\"Agar tumhara naam A se shuru horaha hai tou tum Asra ho aur chutiya ho\")\n",
    "        break\n",
    "else:\n",
    "     print(\"\")\n",
    "    "
   ]
  },
  {
   "cell_type": "code",
   "execution_count": null,
   "metadata": {},
   "outputs": [],
   "source": []
  },
  {
   "cell_type": "code",
   "execution_count": null,
   "metadata": {},
   "outputs": [],
   "source": []
  }
 ],
 "metadata": {
  "kernelspec": {
   "display_name": "Python 3",
   "language": "python",
   "name": "python3"
  },
  "language_info": {
   "codemirror_mode": {
    "name": "ipython",
    "version": 3
   },
   "file_extension": ".py",
   "mimetype": "text/x-python",
   "name": "python",
   "nbconvert_exporter": "python",
   "pygments_lexer": "ipython3",
   "version": "3.7.3"
  }
 },
 "nbformat": 4,
 "nbformat_minor": 2
}
